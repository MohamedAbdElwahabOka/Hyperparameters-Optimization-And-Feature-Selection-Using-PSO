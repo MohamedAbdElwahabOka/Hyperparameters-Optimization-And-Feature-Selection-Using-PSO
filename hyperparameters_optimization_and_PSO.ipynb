{
  "cells": [
    {
      "cell_type": "code",
      "execution_count": 1,
      "metadata": {
        "colab": {
          "base_uri": "https://localhost:8080/"
        },
        "id": "ZIMe9IKBXwoG",
        "outputId": "04a8007b-f378-404e-f7f2-5d977e5abbf0"
      },
      "outputs": [
        {
          "output_type": "stream",
          "name": "stdout",
          "text": [
            "Mounted at /content/drive\n"
          ]
        }
      ],
      "source": [
        "from google.colab import drive\n",
        "drive.mount('/content/drive')"
      ]
    },
    {
      "cell_type": "code",
      "execution_count": 2,
      "metadata": {
        "id": "GRmRrfY3X9eg"
      },
      "outputs": [],
      "source": [
        "import numpy as np\n",
        "import pandas as pd\n",
        "import matplotlib.pyplot as plt\n",
        "import os\n",
        "import random"
      ]
    },
    {
      "cell_type": "code",
      "execution_count": 3,
      "metadata": {
        "id": "6wmdSfKHX_E3"
      },
      "outputs": [],
      "source": [
        "data = pd.read_csv(\"/content/drive/MyDrive/Soft Computing/Financial Distress.csv\")"
      ]
    },
    {
      "cell_type": "code",
      "execution_count": 4,
      "metadata": {
        "id": "xrWaO8uxYEUa"
      },
      "outputs": [],
      "source": [
        "data = data[data.columns.drop(list(data.filter(regex='x80')))]"
      ]
    },
    {
      "cell_type": "code",
      "execution_count": 5,
      "metadata": {
        "id": "RuiGdYIcYFvp"
      },
      "outputs": [],
      "source": [
        "Y = data.iloc[:,2].values\n",
        "for y in range(0,len(Y)): # Coverting target variable from continuous to binary form\n",
        "       if Y[y] > -0.5:\n",
        "              Y[y] = 0\n",
        "       else:\n",
        "              Y[y] = 1\n",
        "X = data.iloc[:,3:].values"
      ]
    },
    {
      "cell_type": "code",
      "execution_count": 6,
      "metadata": {
        "colab": {
          "base_uri": "https://localhost:8080/"
        },
        "id": "IopDmlQiYH65",
        "outputId": "d89040ee-e0d9-4c3a-f2e2-80e18bbae287"
      },
      "outputs": [
        {
          "output_type": "stream",
          "name": "stdout",
          "text": [
            "Number of observations for BANKRUPT companies(1's): 136\n",
            "Number of observations for HEALTHY companies(0's): 3536\n"
          ]
        }
      ],
      "source": [
        "# Counting number of observations for Healthy and and Bankrupt Companies:\n",
        "num_zeros = 0\n",
        "for num in Y:\n",
        "       if num == 0:\n",
        "              num_zeros = num_zeros+1\n",
        "num_ones = len(Y) - num_zeros\n",
        "\n",
        "print(\"Number of observations for BANKRUPT companies(1's):\",num_ones)\n",
        "print(\"Number of observations for HEALTHY companies(0's):\",num_zeros)"
      ]
    },
    {
      "cell_type": "code",
      "execution_count": 7,
      "metadata": {
        "colab": {
          "base_uri": "https://localhost:8080/",
          "height": 406
        },
        "id": "gm0SN-wuYKDp",
        "outputId": "afd83dc8-b69f-4708-d2ab-236550d3c717"
      },
      "outputs": [
        {
          "output_type": "display_data",
          "data": {
            "text/plain": [
              "<Figure size 640x480 with 1 Axes>"
            ],
            "image/png": "[encoded data removed]"
          },
          "metadata": {}
        }
      ],
      "source": [
        "\n",
        "import matplotlib.pyplot as plt\n",
        "labels = \"Bankrupt\", \"Healthy\"\n",
        "sizes = [num_ones, num_zeros]\n",
        "colors = [\"red\", \"green\"]\n",
        "explode = [0.1, 0]  # explode 1st slice\n",
        "\n",
        "plt.pie(sizes, explode=explode, labels=labels, colors=colors,\n",
        "        autopct=\"%1.1f%%\", shadow=True, startangle=140)\n",
        "\n",
        "plt.axis(\"equal\")\n",
        "plt.show()\n"
      ]
    },
    {
      "cell_type": "code",
      "execution_count": 8,
      "metadata": {
        "id": "MZY-silTYMhh"
      },
      "outputs": [],
      "source": [
        "# Splitting the data into training and testing set\n",
        "from sklearn.model_selection import train_test_split\n",
        "X_train,X_test,y_train,y_test = train_test_split(X,Y, test_size = 0.30, random_state = 0)\n",
        "X_train_wo_sampling = X_train\n",
        "y_train_wo_sampling = y_train"
      ]
    },
    {
      "cell_type": "code",
      "execution_count": 9,
      "metadata": {
        "id": "Q8GNh-roYPSv"
      },
      "outputs": [],
      "source": [
        "# Creating more samples units for the bankrupt companies(undersampled data)\n",
        "y_train = (np.matrix(y_train)).T\n",
        "y_train = pd.DataFrame(y_train)\n",
        "y_train.columns = [\"Financial_Distress\"]\n",
        "X_train = pd.DataFrame(X_train)\n",
        "frame = [X_train,y_train]\n",
        "train_data = pd.concat(frame,axis = 1)\n",
        "bankrupt_companies = train_data[train_data.Financial_Distress == 1]\n",
        "\n",
        "feat_mat = bankrupt_companies.iloc[:,:-1].values\n",
        "response = bankrupt_companies.iloc[:,-1].values\n",
        "col_mean = np.zeros(shape=(82,1))\n",
        "col_std = np.zeros(shape=(82,1))\n",
        "Dim_1 = np.shape(feat_mat)\n",
        "for i in range(0,Dim_1[1]): # Logic to calculate mean and standard deviation for each column\n",
        "       col_mean[i,0] = np.mean(feat_mat[:,i])\n",
        "       col_std[i,0] = np.std(feat_mat[:,i])\n",
        "col_mean_and_std = np.hstack((col_mean,col_std))\n",
        "\n",
        "added_data = np.zeros(shape=(1200,Dim_1[1]))\n",
        "for i in range (0,len(col_mean_and_std)):\n",
        "       mean_ = col_mean_and_std[i,0]\n",
        "       std_ = col_mean_and_std[i,1]\n",
        "       added_data[:,i] = np.random.normal(mean_,std_,1200)\n",
        "added_y = np.ones(shape=(1200,1)) # Creating labels for the added data\n",
        "\n",
        "X_resampled = np.vstack((X_train,added_data)) # Combining the original data + added data\n",
        "y_train = np.array(y_train)\n",
        "y_resampled = np.vstack((y_train,added_y))"
      ]
    },
    {
      "cell_type": "code",
      "execution_count": 10,
      "metadata": {
        "colab": {
          "base_uri": "https://localhost:8080/",
          "height": 442
        },
        "id": "xWtL64eRYRSi",
        "outputId": "da211af4-0916-4ae3-bbfd-9455eceba394"
      },
      "outputs": [
        {
          "output_type": "stream",
          "name": "stdout",
          "text": [
            "Number of observations for BANKRUPT companies(1's): 1295\n",
            "Number of observations for HEALTHY companies(0's): 2475\n"
          ]
        },
        {
          "output_type": "display_data",
          "data": {
            "text/plain": [
              "<Figure size 640x480 with 1 Axes>"
            ],
            "image/png": "[encoded data removed]"
          },
          "metadata": {}
        }
      ],
      "source": [
        "# prompt: Counting number of observations for Healthy and and Bankrupt Companies\n",
        "\n",
        "num_zeros = 0\n",
        "for num in y_resampled:\n",
        "       if num == 0:\n",
        "              num_zeros = num_zeros+1\n",
        "num_ones = len(y_resampled) - num_zeros\n",
        "\n",
        "print(\"Number of observations for BANKRUPT companies(1's):\",num_ones)\n",
        "print(\"Number of observations for HEALTHY companies(0's):\",num_zeros)\n",
        "\n",
        "\n",
        "labels = \"Bankrupt\", \"Healthy\"\n",
        "sizes = [num_ones, num_zeros]\n",
        "colors = [\"red\", \"green\"]\n",
        "explode = [0.1, 0]  # explode 1st slice\n",
        "\n",
        "plt.pie(sizes, explode=explode, labels=labels, colors=colors,\n",
        "        autopct=\"%1.1f%%\", shadow=True, startangle=140)\n",
        "\n",
        "plt.axis(\"equal\")\n",
        "plt.show()\n"
      ]
    },
    {
      "cell_type": "code",
      "execution_count": 11,
      "metadata": {
        "id": "8NgkeUFiYWnQ"
      },
      "outputs": [],
      "source": [
        "''' Standardizing the range of features to have a mean of 0 and standard deviation of 1\n",
        "allows for better performance and faster convergence during model training.'''\n",
        "from sklearn.preprocessing import StandardScaler\n",
        "sc = StandardScaler()\n",
        "X_resampled = sc.fit_transform(X_resampled)\n",
        "X_test = sc.transform(X_test)"
      ]
    },
    {
      "cell_type": "code",
      "execution_count": null,
      "metadata": {
        "id": "bmasZ2C4YxKv"
      },
      "outputs": [],
      "source": [
        "\n",
        "\n",
        "from sklearn.model_selection import GridSearchCV\n",
        "from sklearn.svm import SVC\n",
        "\n",
        "# Define the parameter grid\n",
        "param_grid = {\n",
        "  'C': [0.1, 1, 10, 100, 1000],\n",
        "  'gamma': [1, 0.1, 0.01, 0.001, 0.0001],\n",
        "  'kernel': ['rbf', 'linear', 'poly', 'sigmoid']\n",
        "}\n",
        "\n",
        "# Create the grid search object\n",
        "grid = GridSearchCV(SVC(), param_grid, refit=True, verbose=3)\n",
        "\n",
        "# Fit the grid search object to the data\n",
        "grid.fit(X_resampled, y_resampled)\n",
        "\n",
        "# Get the best parameters\n",
        "best_params = grid.best_params_\n",
        "\n",
        "# Print the best parameters\n",
        "print(f\"Best parameters: {best_params}\")\n"
      ]
    },
    {
      "cell_type": "code",
      "execution_count": null,
      "metadata": {
        "colab": {
          "base_uri": "https://localhost:8080/"
        },
        "id": "uGJoJUp7fsfS",
        "outputId": "a5478411-0ac5-4269-b149-ec941788c3d8"
      },
      "outputs": [
        {
          "name": "stderr",
          "output_type": "stream",
          "text": [
            "/usr/local/lib/python3.10/dist-packages/sklearn/utils/validation.py:1143: DataConversionWarning: A column-vector y was passed when a 1d array was expected. Please change the shape of y to (n_samples, ), for example using ravel().\n",
            "  y = column_or_1d(y, warn=True)\n"
          ]
        },
        {
          "name": "stdout",
          "output_type": "stream",
          "text": [
            "Accuracy: 0.9519056261343013\n"
          ]
        }
      ],
      "source": [
        "\n",
        "# Create the SVM classifier with the best parameters\n",
        "svm_classifier = SVC(**best_params)\n",
        "\n",
        "# Train the SVM classifier on the training data\n",
        "svm_classifier.fit(X_resampled, y_resampled)\n",
        "\n",
        "# Predict the labels of the test data\n",
        "y_pred = svm_classifier.predict(X_test)\n",
        "\n",
        "# Calculate the accuracy of the SVM classifier\n",
        "accuracy = svm_classifier.score(X_test, y_test)\n",
        "\n",
        "# Print the accuracy of the SVM classifier\n",
        "print(f\"Accuracy: {accuracy}\")\n"
      ]
    },
    {
      "cell_type": "code",
      "execution_count": null,
      "metadata": {
        "colab": {
          "base_uri": "https://localhost:8080/"
        },
        "id": "M7JA5eK_f2DK",
        "outputId": "112dbbab-7c59-4134-9bc8-595b2ce13f36"
      },
      "outputs": [
        {
          "name": "stdout",
          "output_type": "stream",
          "text": [
            "Precision: 0.34210526315789475\n",
            "Recall: 0.3170731707317073\n",
            "F1 score: 0.32911392405063294\n",
            "Accuracy: 0.9519056261343013\n"
          ]
        }
      ],
      "source": [
        "# prompt: calc Precision  and Recall  and F1 score and Accuracy\n",
        "\n",
        "from sklearn.metrics import precision_score, recall_score, f1_score, accuracy_score\n",
        "\n",
        "# Calculate the precision, recall, and F1 score\n",
        "precision = precision_score(y_test, y_pred)\n",
        "recall = recall_score(y_test, y_pred)\n",
        "f1 = f1_score(y_test, y_pred)\n",
        "\n",
        "# Print the precision, recall, and F1 score\n",
        "print(f\"Precision: {precision}\")\n",
        "print(f\"Recall: {recall}\")\n",
        "print(f\"F1 score: {f1}\")\n",
        "\n",
        "# Calculate the accuracy\n",
        "accuracy = accuracy_score(y_test, y_pred)\n",
        "\n",
        "# Print the accuracy\n",
        "print(f\"Accuracy: {accuracy}\")\n"
      ]
    },
    {
      "cell_type": "code",
      "execution_count": null,
      "metadata": {
        "colab": {
          "base_uri": "https://localhost:8080/",
          "height": 472
        },
        "id": "a7T8lMSTf9m0",
        "outputId": "09db7542-1689-46e0-974c-aeff2aea239b"
      },
      "outputs": [
        {
          "data": {
            "image/png": "[encoded data removed]",
            "text/plain": [
              "<Figure size 640x480 with 2 Axes>"
            ]
          },
          "metadata": {},
          "output_type": "display_data"
        }
      ],
      "source": [
        "# prompt: plot a  convution matrex\n",
        "\n",
        "import matplotlib.pyplot as plt\n",
        "import seaborn as sns\n",
        "from sklearn.metrics import confusion_matrix\n",
        "\n",
        "# Get the confusion matrix\n",
        "cm = confusion_matrix(y_test, y_pred)\n",
        "\n",
        "# Create a heatmap of the confusion matrix\n",
        "sns.heatmap(cm, annot=True, cmap=\"Blues\", fmt=\"d\")\n",
        "\n",
        "# Set the labels for the axes\n",
        "plt.xlabel(\"Predicted\")\n",
        "plt.ylabel(\"Actual\")\n",
        "\n",
        "# Set the title of the plot\n",
        "plt.title(\"Confusion Matrix\")\n",
        "\n",
        "# Show the plot\n",
        "plt.show()\n"
      ]
    },
    {
      "cell_type": "code",
      "execution_count": null,
      "metadata": {
        "colab": {
          "base_uri": "https://localhost:8080/"
        },
        "id": "CEyccDKgf-07",
        "outputId": "02d84423-179b-42e4-e786-f37eb0c9f188"
      },
      "outputs": [
        {
          "name": "stdout",
          "output_type": "stream",
          "text": [
            "Collecting pyswarms\n",
            "  Downloading pyswarms-1.3.0-py2.py3-none-any.whl (104 kB)\n",
            "\u001b[?25l     \u001b[90m━━━━━━━━━━━━━━━━━━━━━━━━━━━━━━━━━━━━━━━━\u001b[0m \u001b[32m0.0/104.1 kB\u001b[0m \u001b[31m?\u001b[0m eta \u001b[36m-:--:--\u001b[0m\r\u001b[2K     \u001b[91m━━━━━━━━━━━━━━━━━━━\u001b[0m\u001b[91m╸\u001b[0m\u001b[90m━━━━━━━━━━━━━━━━━━━━\u001b[0m \u001b[32m51.2/104.1 kB\u001b[0m \u001b[31m1.3 MB/s\u001b[0m eta \u001b[36m0:00:01\u001b[0m\r\u001b[2K     \u001b[90m━━━━━━━━━━━━━━━━━━━━━━━━━━━━━━━━━━━━━━━━\u001b[0m \u001b[32m104.1/104.1 kB\u001b[0m \u001b[31m1.8 MB/s\u001b[0m eta \u001b[36m0:00:00\u001b[0m\n",
            "\u001b[?25hRequirement already satisfied: scipy in /usr/local/lib/python3.10/dist-packages (from pyswarms) (1.11.4)\n",
            "Requirement already satisfied: numpy in /usr/local/lib/python3.10/dist-packages (from pyswarms) (1.25.2)\n",
            "Requirement already satisfied: matplotlib>=1.3.1 in /usr/local/lib/python3.10/dist-packages (from pyswarms) (3.7.1)\n",
            "Requirement already satisfied: attrs in /usr/local/lib/python3.10/dist-packages (from pyswarms) (23.2.0)\n",
            "Requirement already satisfied: tqdm in /usr/local/lib/python3.10/dist-packages (from pyswarms) (4.66.2)\n",
            "Requirement already satisfied: future in /usr/local/lib/python3.10/dist-packages (from pyswarms) (0.18.3)\n",
            "Requirement already satisfied: pyyaml in /usr/local/lib/python3.10/dist-packages (from pyswarms) (6.0.1)\n",
            "Requirement already satisfied: contourpy>=1.0.1 in /usr/local/lib/python3.10/dist-packages (from matplotlib>=1.3.1->pyswarms) (1.2.1)\n",
            "Requirement already satisfied: cycler>=0.10 in /usr/local/lib/python3.10/dist-packages (from matplotlib>=1.3.1->pyswarms) (0.12.1)\n",
            "Requirement already satisfied: fonttools>=4.22.0 in /usr/local/lib/python3.10/dist-packages (from matplotlib>=1.3.1->pyswarms) (4.51.0)\n",
            "Requirement already satisfied: kiwisolver>=1.0.1 in /usr/local/lib/python3.10/dist-packages (from matplotlib>=1.3.1->pyswarms) (1.4.5)\n",
            "Requirement already satisfied: packaging>=20.0 in /usr/local/lib/python3.10/dist-packages (from matplotlib>=1.3.1->pyswarms) (24.0)\n",
            "Requirement already satisfied: pillow>=6.2.0 in /usr/local/lib/python3.10/dist-packages (from matplotlib>=1.3.1->pyswarms) (9.4.0)\n",
            "Requirement already satisfied: pyparsing>=2.3.1 in /usr/local/lib/python3.10/dist-packages (from matplotlib>=1.3.1->pyswarms) (3.1.2)\n",
            "Requirement already satisfied: python-dateutil>=2.7 in /usr/local/lib/python3.10/dist-packages (from matplotlib>=1.3.1->pyswarms) (2.8.2)\n",
            "Requirement already satisfied: six>=1.5 in /usr/local/lib/python3.10/dist-packages (from python-dateutil>=2.7->matplotlib>=1.3.1->pyswarms) (1.16.0)\n",
            "Installing collected packages: pyswarms\n",
            "Successfully installed pyswarms-1.3.0\n"
          ]
        }
      ],
      "source": [
        "!pip install pyswarms"
      ]
    },
    {
      "cell_type": "code",
      "execution_count": null,
      "metadata": {
        "colab": {
          "background_save": true,
          "base_uri": "https://localhost:8080/"
        },
        "id": "l9RsuVa4gCIN",
        "outputId": "8aa9a1e4-4cea-4f90-d254-dccb5ce2fe51"
      },
      "outputs": [
        {
          "name": "stderr",
          "output_type": "stream",
          "text": [
            "2024-05-03 22:08:25,526 - pyswarms.single.global_best - INFO - Optimize for 100 iters with {'c1': 0.5, 'c2': 0.3, 'w': 0.9}\n",
            "pyswarms.single.global_best: 100%|██████████|100/100, best_cost=0.139\n",
            "2024-05-03 22:54:50,699 - pyswarms.single.global_best - INFO - Optimization finished | best cost: 0.13899340445310077, best pos: [0.51899454 0.4063577  0.54411812 0.79956492 0.24817086 0.55830858\n",
            " 0.76578152 0.34093928 0.3282223  0.76880531 0.75773769 0.76788662\n",
            " 0.70009654 0.79773491 0.52619483 0.67897904 0.54941244 0.73611268\n",
            " 0.8738421  0.54095445 0.54511297 0.81555777 0.56262901 0.50265127\n",
            " 0.99506222 0.60647474 0.50111325 0.44318863 0.52666344 0.65094521\n",
            " 0.66559105 0.57610275 0.57914178 0.27152246 0.73603201 0.52994591\n",
            " 0.50123259 0.46647866 0.51614995 0.74284851 0.56249304 0.70463659\n",
            " 0.54687202 0.15641744 0.20073391 0.88968453 0.33983036 0.74828978\n",
            " 0.80285043 0.77046337 0.22741588 0.42696    0.48210461 0.64580393\n",
            " 0.80357642 0.53917455 0.77931085 0.5252558  0.70712832 0.84580918\n",
            " 0.55020985 0.45566724 0.66577238 0.62690568 0.50016377 0.51249405\n",
            " 0.18356887 0.99831554 0.07674174 0.73878308 0.56294238 0.57681078\n",
            " 0.60420488 0.50587627 0.51310616 0.57199631 0.1525623  0.43505763\n",
            " 0.3541173  0.84777076 0.50273177 0.51451359]\n"
          ]
        }
      ],
      "source": [
        "import numpy as np\n",
        "import pyswarms as ps\n",
        "from sklearn.datasets import make_classification\n",
        "from sklearn.model_selection import train_test_split\n",
        "from sklearn.ensemble import RandomForestClassifier\n",
        "from sklearn.metrics import accuracy_score\n",
        "\n",
        "\n",
        "# Define binary PSO\n",
        "options = {'c1': 0.5, 'c2': 0.3, 'w':0.9}\n",
        "\n",
        "# Define bounds\n",
        "max_bound = 1.0 * np.ones(X.shape[1])\n",
        "min_bound = 0.0 * np.ones(X.shape[1])\n",
        "bounds = (min_bound, max_bound)\n",
        "\n",
        "# Objective function\n",
        "# def f_per_particle(m, alpha):\n",
        "#     \"\"\"Computes for the objective function per particle\n",
        "\n",
        "#     Inputs\n",
        "#     ------\n",
        "#     m : numpy.ndarray\n",
        "#         Binary mask that can be obtained from BinaryPSO, will\n",
        "#         be used to mask features.\n",
        "#     alpha: float\n",
        "#         Penalty factor to control the number of features selected.\n",
        "\n",
        "#     Returns\n",
        "#     -------\n",
        "#     numpy.ndarray\n",
        "#     \"\"\"\n",
        "#     total_features = X.shape[1]\n",
        "#     # Apply mask to features\n",
        "#     X_subset = X[:,m>0.5]\n",
        "#     if X_subset.shape[1] == 0:\n",
        "#         return float('inf')\n",
        "#     # Split the dataset\n",
        "#     X_train, X_test, y_train, y_test = train_test_split(X_subset, y, test_size=0.3, random_state=42)\n",
        "#     # Fit the model\n",
        "#     clf = RandomForestClassifier(n_estimators=50, random_state=42)\n",
        "#     clf.fit(X_train, y_train)\n",
        "#     # Predict and calculate accuracy\n",
        "#     y_pred = clf.predict(X_test)\n",
        "#     accuracy = accuracy_score(y_test, y_pred)\n",
        "#     # Calculate objective\n",
        "#     j = (alpha * (1.0 - accuracy) + (1.0 - alpha) * (1 - (X_subset.shape[1] / total_features)))\n",
        "#     return j\n",
        "\n",
        "def f_per_particle(m, X, y, alpha):\n",
        "    \"\"\"Computes the objective function per particle\n",
        "\n",
        "    Inputs\n",
        "    ------\n",
        "    m : numpy.ndarray\n",
        "        Binary mask that can be obtained from BinaryPSO, will\n",
        "        be used to mask features.\n",
        "    X : numpy.ndarray\n",
        "        Input features.\n",
        "    y : numpy.ndarray\n",
        "        Target labels.\n",
        "    alpha: float\n",
        "        Penalty factor to control the number of features selected.\n",
        "\n",
        "    Returns\n",
        "    -------\n",
        "    float\n",
        "        The computed loss for the particle\n",
        "    \"\"\"\n",
        "    total_features = X.shape[1]\n",
        "    # Apply mask to features\n",
        "    X_subset = X[:, m > 0.5]\n",
        "    if X_subset.shape[1] == 0:\n",
        "        return float('inf')\n",
        "    # Split the dataset\n",
        "    X_train, X_test, y_train, y_test = train_test_split(X_subset, y, test_size=0.3, random_state=42)\n",
        "    # Fit the model\n",
        "    clf = RandomForestClassifier(n_estimators=50, random_state=42)\n",
        "    clf.fit(X_train, y_train)\n",
        "    # Predict and calculate accuracy\n",
        "    y_pred = clf.predict(X_test)\n",
        "    accuracy = accuracy_score(y_test, y_pred)\n",
        "    # Calculate objective\n",
        "    j = (alpha * (1.0 - accuracy) + (1.0 - alpha) * (1 - (X_subset.shape[1] / total_features)))\n",
        "    return j\n",
        "# Define objective function\n",
        "# def f(x, alpha=0.5):\n",
        "#     \"\"\"Higher-level method to do classification in the\n",
        "#     whole swarm.\n",
        "\n",
        "#     Inputs\n",
        "#     ------\n",
        "#     x: numpy.ndarray of shape (n_particles, dimensions)\n",
        "#         The swarm that will perform the search\n",
        "\n",
        "#     Returns\n",
        "#     -------\n",
        "#     numpy.ndarray of shape (n_particles, )\n",
        "#         The computed loss for each particle\n",
        "#     \"\"\"\n",
        "#     n_particles = x.shape[0]\n",
        "#     j = [f_per_particle(x[i], alpha) for i in range(n_particles)]\n",
        "#     return np.array(j)\n",
        "def f(x, X, y, alpha=0.5):\n",
        "    \"\"\"Higher-level method to do classification in the\n",
        "    whole swarm.\n",
        "\n",
        "    Inputs\n",
        "    ------\n",
        "    x: numpy.ndarray of shape (n_particles, dimensions)\n",
        "        The swarm that will perform the search\n",
        "    X : numpy.ndarray\n",
        "        Input features.\n",
        "    y : numpy.ndarray\n",
        "        Target labels.\n",
        "\n",
        "    Returns\n",
        "    -------\n",
        "    numpy.ndarray of shape (n_particles, )\n",
        "        The computed loss for each particle\n",
        "    \"\"\"\n",
        "    n_particles = x.shape[0]\n",
        "    j = [f_per_particle(x[i], X, y, alpha) for i in range(n_particles)]\n",
        "    return np.array(j)\n",
        "\n",
        "# Initialize swarm\n",
        "optimizer = ps.single.GlobalBestPSO(n_particles=50, dimensions=X.shape[1], options=options, bounds=bounds)\n",
        "\n",
        "# Perform optimization\n",
        "cost, pos = optimizer.optimize(f, iters=100, X=X, y=Y)\n"
      ]
    },
    {
      "cell_type": "code",
      "execution_count": null,
      "metadata": {
        "id": "vZ_KBpc2irZd"
      },
      "outputs": [],
      "source": [
        "#'pos' is the variable containing the best position returned by optimizer.optimize()\n",
        "best_pos = np.array(pos)\n",
        "\n",
        "print(\"Position as NumPy Array:\", best_pos)\n"
      ]
    },
    {
      "cell_type": "code",
      "execution_count": null,
      "metadata": {
        "id": "UR0N-40Iiv40"
      },
      "outputs": [],
      "source": [
        "# Define a threshold to determine whether a feature is selected\n",
        "threshold = 0.6\n",
        "\n",
        "# Create a boolean mask from 'best_pos' based on the threshold\n",
        "selected_features_mask = best_pos > threshold\n",
        "\n",
        "# df_cleaned.columns[:-1] gives you all feature names excluding the target variable\n",
        "feature_names = data.iloc[:,2:].columns[:-1]  # Modify this as necessary\n",
        "\n",
        "# Use the mask to select the names of the features\n",
        "selected_features = feature_names[selected_features_mask]\n",
        "\n",
        "print(\"Selected Features:\", selected_features)"
      ]
    },
    {
      "cell_type": "code",
      "execution_count": null,
      "metadata": {
        "id": "3CvT2HIuixdx"
      },
      "outputs": [],
      "source": [
        "selected=selected_features.values.tolist()"
      ]
    },
    {
      "cell_type": "code",
      "execution_count": null,
      "metadata": {
        "id": "IV817BjRiytV"
      },
      "outputs": [],
      "source": [
        "# Filter the DataFrame to include only the selected features\n",
        "mask = np.isin(data.iloc[:,3:].columns,selected)\n",
        "X_selected = X[:,mask]"
      ]
    },
    {
      "cell_type": "code",
      "execution_count": null,
      "metadata": {
        "id": "DFzKGaN0i0RN"
      },
      "outputs": [],
      "source": [
        "# Split the data into training and testing sets\n",
        "X_train, X_test, y_train, y_test = train_test_split(X_selected, Y, test_size=0.3, random_state=42)\n"
      ]
    }
  ],
  "metadata": {
    "colab": {
      "provenance": [],
      "gpuType": "T4"
    },
    "kernelspec": {
      "display_name": "Python 3",
      "name": "python3"
    },
    "language_info": {
      "name": "python"
    },
    "accelerator": "GPU"
  },
  "nbformat": 4,
  "nbformat_minor": 0
}